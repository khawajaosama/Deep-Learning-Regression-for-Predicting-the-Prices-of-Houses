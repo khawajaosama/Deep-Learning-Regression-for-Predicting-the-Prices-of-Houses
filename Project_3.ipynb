{
 "cells": [
  {
   "cell_type": "markdown",
   "metadata": {},
   "source": [
    "# Deep Learning Project 3"
   ]
  },
  {
   "cell_type": "markdown",
   "metadata": {},
   "source": [
    "### Importing all the important libraries"
   ]
  },
  {
   "cell_type": "code",
   "execution_count": 34,
   "metadata": {},
   "outputs": [],
   "source": [
    "import numpy as np\n",
    "import pandas as pd\n",
    "import tensorflow as tf\n",
    "import keras\n",
    "from keras import models\n",
    "from keras import layers\n",
    "from keras.models import Sequential\n",
    "from keras.layers import Dense\n",
    "from keras.wrappers.scikit_learn import KerasRegressor\n",
    "from sklearn.model_selection import cross_val_score\n",
    "from sklearn.model_selection import cross_validate\n",
    "from sklearn.model_selection import KFold\n",
    "from sklearn.preprocessing import StandardScaler\n",
    "from sklearn.model_selection import StratifiedKFold\n",
    "from sklearn.pipeline import Pipeline"
   ]
  },
  {
   "cell_type": "markdown",
   "metadata": {},
   "source": [
    "## Step 2. Develop a Baseline Neural Network Model"
   ]
  },
  {
   "cell_type": "code",
   "execution_count": 2,
   "metadata": {},
   "outputs": [],
   "source": [
    "dataframe = pd.read_csv(\"housing.csv\", delim_whitespace=True, header=None)\n",
    "dataset = dataframe.values\n",
    "# split into input (X) and output (Y) variables\n",
    "X = dataset[:,0:13]\n",
    "Y = dataset[:,13]"
   ]
  },
  {
   "cell_type": "code",
   "execution_count": 3,
   "metadata": {},
   "outputs": [
    {
     "data": {
      "text/plain": [
       "array([[6.3200e-03, 1.8000e+01, 2.3100e+00, ..., 1.5300e+01, 3.9690e+02,\n",
       "        4.9800e+00],\n",
       "       [2.7310e-02, 0.0000e+00, 7.0700e+00, ..., 1.7800e+01, 3.9690e+02,\n",
       "        9.1400e+00],\n",
       "       [2.7290e-02, 0.0000e+00, 7.0700e+00, ..., 1.7800e+01, 3.9283e+02,\n",
       "        4.0300e+00],\n",
       "       ...,\n",
       "       [6.0760e-02, 0.0000e+00, 1.1930e+01, ..., 2.1000e+01, 3.9690e+02,\n",
       "        5.6400e+00],\n",
       "       [1.0959e-01, 0.0000e+00, 1.1930e+01, ..., 2.1000e+01, 3.9345e+02,\n",
       "        6.4800e+00],\n",
       "       [4.7410e-02, 0.0000e+00, 1.1930e+01, ..., 2.1000e+01, 3.9690e+02,\n",
       "        7.8800e+00]])"
      ]
     },
     "execution_count": 3,
     "metadata": {},
     "output_type": "execute_result"
    }
   ],
   "source": [
    "X"
   ]
  },
  {
   "cell_type": "code",
   "execution_count": 4,
   "metadata": {},
   "outputs": [
    {
     "data": {
      "text/plain": [
       "array([24. , 21.6, 34.7, 33.4, 36.2, 28.7, 22.9, 27.1, 16.5, 18.9, 15. ,\n",
       "       18.9, 21.7, 20.4, 18.2, 19.9, 23.1, 17.5, 20.2, 18.2, 13.6, 19.6,\n",
       "       15.2, 14.5, 15.6, 13.9, 16.6, 14.8, 18.4, 21. , 12.7, 14.5, 13.2,\n",
       "       13.1, 13.5, 18.9, 20. , 21. , 24.7, 30.8, 34.9, 26.6, 25.3, 24.7,\n",
       "       21.2, 19.3, 20. , 16.6, 14.4, 19.4, 19.7, 20.5, 25. , 23.4, 18.9,\n",
       "       35.4, 24.7, 31.6, 23.3, 19.6, 18.7, 16. , 22.2, 25. , 33. , 23.5,\n",
       "       19.4, 22. , 17.4, 20.9, 24.2, 21.7, 22.8, 23.4, 24.1, 21.4, 20. ,\n",
       "       20.8, 21.2, 20.3, 28. , 23.9, 24.8, 22.9, 23.9, 26.6, 22.5, 22.2,\n",
       "       23.6, 28.7, 22.6, 22. , 22.9, 25. , 20.6, 28.4, 21.4, 38.7, 43.8,\n",
       "       33.2, 27.5, 26.5, 18.6, 19.3, 20.1, 19.5, 19.5, 20.4, 19.8, 19.4,\n",
       "       21.7, 22.8, 18.8, 18.7, 18.5, 18.3, 21.2, 19.2, 20.4, 19.3, 22. ,\n",
       "       20.3, 20.5, 17.3, 18.8, 21.4, 15.7, 16.2, 18. , 14.3, 19.2, 19.6,\n",
       "       23. , 18.4, 15.6, 18.1, 17.4, 17.1, 13.3, 17.8, 14. , 14.4, 13.4,\n",
       "       15.6, 11.8, 13.8, 15.6, 14.6, 17.8, 15.4, 21.5, 19.6, 15.3, 19.4,\n",
       "       17. , 15.6, 13.1, 41.3, 24.3, 23.3, 27. , 50. , 50. , 50. , 22.7,\n",
       "       25. , 50. , 23.8, 23.8, 22.3, 17.4, 19.1, 23.1, 23.6, 22.6, 29.4,\n",
       "       23.2, 24.6, 29.9, 37.2, 39.8, 36.2, 37.9, 32.5, 26.4, 29.6, 50. ,\n",
       "       32. , 29.8, 34.9, 37. , 30.5, 36.4, 31.1, 29.1, 50. , 33.3, 30.3,\n",
       "       34.6, 34.9, 32.9, 24.1, 42.3, 48.5, 50. , 22.6, 24.4, 22.5, 24.4,\n",
       "       20. , 21.7, 19.3, 22.4, 28.1, 23.7, 25. , 23.3, 28.7, 21.5, 23. ,\n",
       "       26.7, 21.7, 27.5, 30.1, 44.8, 50. , 37.6, 31.6, 46.7, 31.5, 24.3,\n",
       "       31.7, 41.7, 48.3, 29. , 24. , 25.1, 31.5, 23.7, 23.3, 22. , 20.1,\n",
       "       22.2, 23.7, 17.6, 18.5, 24.3, 20.5, 24.5, 26.2, 24.4, 24.8, 29.6,\n",
       "       42.8, 21.9, 20.9, 44. , 50. , 36. , 30.1, 33.8, 43.1, 48.8, 31. ,\n",
       "       36.5, 22.8, 30.7, 50. , 43.5, 20.7, 21.1, 25.2, 24.4, 35.2, 32.4,\n",
       "       32. , 33.2, 33.1, 29.1, 35.1, 45.4, 35.4, 46. , 50. , 32.2, 22. ,\n",
       "       20.1, 23.2, 22.3, 24.8, 28.5, 37.3, 27.9, 23.9, 21.7, 28.6, 27.1,\n",
       "       20.3, 22.5, 29. , 24.8, 22. , 26.4, 33.1, 36.1, 28.4, 33.4, 28.2,\n",
       "       22.8, 20.3, 16.1, 22.1, 19.4, 21.6, 23.8, 16.2, 17.8, 19.8, 23.1,\n",
       "       21. , 23.8, 23.1, 20.4, 18.5, 25. , 24.6, 23. , 22.2, 19.3, 22.6,\n",
       "       19.8, 17.1, 19.4, 22.2, 20.7, 21.1, 19.5, 18.5, 20.6, 19. , 18.7,\n",
       "       32.7, 16.5, 23.9, 31.2, 17.5, 17.2, 23.1, 24.5, 26.6, 22.9, 24.1,\n",
       "       18.6, 30.1, 18.2, 20.6, 17.8, 21.7, 22.7, 22.6, 25. , 19.9, 20.8,\n",
       "       16.8, 21.9, 27.5, 21.9, 23.1, 50. , 50. , 50. , 50. , 50. , 13.8,\n",
       "       13.8, 15. , 13.9, 13.3, 13.1, 10.2, 10.4, 10.9, 11.3, 12.3,  8.8,\n",
       "        7.2, 10.5,  7.4, 10.2, 11.5, 15.1, 23.2,  9.7, 13.8, 12.7, 13.1,\n",
       "       12.5,  8.5,  5. ,  6.3,  5.6,  7.2, 12.1,  8.3,  8.5,  5. , 11.9,\n",
       "       27.9, 17.2, 27.5, 15. , 17.2, 17.9, 16.3,  7. ,  7.2,  7.5, 10.4,\n",
       "        8.8,  8.4, 16.7, 14.2, 20.8, 13.4, 11.7,  8.3, 10.2, 10.9, 11. ,\n",
       "        9.5, 14.5, 14.1, 16.1, 14.3, 11.7, 13.4,  9.6,  8.7,  8.4, 12.8,\n",
       "       10.5, 17.1, 18.4, 15.4, 10.8, 11.8, 14.9, 12.6, 14.1, 13. , 13.4,\n",
       "       15.2, 16.1, 17.8, 14.9, 14.1, 12.7, 13.5, 14.9, 20. , 16.4, 17.7,\n",
       "       19.5, 20.2, 21.4, 19.9, 19. , 19.1, 19.1, 20.1, 19.9, 19.6, 23.2,\n",
       "       29.8, 13.8, 13.3, 16.7, 12. , 14.6, 21.4, 23. , 23.7, 25. , 21.8,\n",
       "       20.6, 21.2, 19.1, 20.6, 15.2,  7. ,  8.1, 13.6, 20.1, 21.8, 24.5,\n",
       "       23.1, 19.7, 18.3, 21.2, 17.5, 16.8, 22.4, 20.6, 23.9, 22. , 11.9])"
      ]
     },
     "execution_count": 4,
     "metadata": {},
     "output_type": "execute_result"
    }
   ],
   "source": [
    "Y"
   ]
  },
  {
   "cell_type": "markdown",
   "metadata": {},
   "source": [
    "### define base model"
   ]
  },
  {
   "cell_type": "code",
   "execution_count": 5,
   "metadata": {},
   "outputs": [],
   "source": [
    "def baseline_model():\n",
    "    model=models.Sequential()\n",
    "    model.add(Dense(13, activation='relu',input_shape=(13,)))\n",
    "    model.add(Dense(1))\n",
    "    model.compile(optimizer='adam', loss='mse', metrics=['mae'])\n",
    "    return model"
   ]
  },
  {
   "cell_type": "markdown",
   "metadata": {},
   "source": [
    "### fix random seed for reproducibility"
   ]
  },
  {
   "cell_type": "code",
   "execution_count": 35,
   "metadata": {},
   "outputs": [],
   "source": [
    "seed=7\n",
    "np.random.seed(seed)"
   ]
  },
  {
   "cell_type": "markdown",
   "metadata": {},
   "source": [
    "### evaluate model with standardized dataset"
   ]
  },
  {
   "cell_type": "code",
   "execution_count": 117,
   "metadata": {},
   "outputs": [],
   "source": [
    "estimator=KerasRegressor(build_fn=baseline_model, epochs=100, batch_size=5, verbose=0)"
   ]
  },
  {
   "cell_type": "code",
   "execution_count": 124,
   "metadata": {
    "scrolled": true
   },
   "outputs": [
    {
     "name": "stdout",
     "output_type": "stream",
     "text": [
      "Results: -34.22 (12.40) MSE\n"
     ]
    }
   ],
   "source": [
    "kfold = KFold(n_splits=10, random_state=seed,shuffle=True)\n",
    "results = cross_val_score(estimator, X, Y, cv=kfold)\n",
    "print(\"Results: %.2f (%.2f) MSE\" % (results.mean(), results.std()))"
   ]
  },
  {
   "cell_type": "code",
   "execution_count": 122,
   "metadata": {},
   "outputs": [
    {
     "data": {
      "text/plain": [
       "-34.45583989328029"
      ]
     },
     "execution_count": 122,
     "metadata": {},
     "output_type": "execute_result"
    }
   ],
   "source": [
    "results"
   ]
  },
  {
   "cell_type": "markdown",
   "metadata": {},
   "source": [
    "## Step 3: Modeling The Standardized Dataset"
   ]
  },
  {
   "cell_type": "code",
   "execution_count": 10,
   "metadata": {},
   "outputs": [
    {
     "name": "stdout",
     "output_type": "stream",
     "text": [
      "Standardized: -26.94 (32.53) MSE\n"
     ]
    }
   ],
   "source": [
    "np.random.seed(seed)\n",
    "estimators = []\n",
    "estimators.append(('standardize', StandardScaler()))\n",
    "estimators.append(('mlp', KerasRegressor(build_fn=baseline_model, epochs=50, batch_size=5, verbose=0)))\n",
    "pipeline = Pipeline(estimators)\n",
    "kfold = KFold(n_splits=10, random_state=seed)\n",
    "results = cross_val_score(pipeline, X, Y, cv=kfold)\n",
    "print(\"Standardized: %.2f (%.2f) MSE\" % (results.mean(), results.std()))"
   ]
  },
  {
   "cell_type": "markdown",
   "metadata": {},
   "source": [
    "## Extension of Step 3:"
   ]
  },
  {
   "cell_type": "markdown",
   "metadata": {},
   "source": [
    "### Normalizing The Output Data"
   ]
  },
  {
   "cell_type": "code",
   "execution_count": 11,
   "metadata": {},
   "outputs": [
    {
     "data": {
      "text/plain": [
       "array([ 0.15968566, -0.10152429,  1.32424667,  1.18275795,  1.48750288,\n",
       "        0.6712218 ,  0.03996443,  0.49708184, -0.65659542, -0.39538548,\n",
       "       -0.81985164, -0.39538548, -0.09064054, -0.23212926, -0.47157171,\n",
       "       -0.286548  ,  0.06173193, -0.54775795, -0.25389676, -0.47157171,\n",
       "       -0.97222411, -0.31919924, -0.79808414, -0.87427038, -0.75454915,\n",
       "       -0.93957286, -0.64571167, -0.84161913, -0.44980422, -0.16682677,\n",
       "       -1.07017784, -0.87427038, -1.0157591 , -1.02664285, -0.98310786,\n",
       "       -0.39538548, -0.27566425, -0.16682677,  0.23587189,  0.89978051,\n",
       "        1.34601416,  0.4426631 ,  0.30117438,  0.23587189, -0.14505928,\n",
       "       -0.35185049, -0.27566425, -0.64571167, -0.88515413, -0.34096674,\n",
       "       -0.30831549, -0.22124551,  0.26852314,  0.09438317, -0.39538548,\n",
       "        1.4004329 ,  0.23587189,  0.98685049,  0.08349942, -0.31919924,\n",
       "       -0.41715297, -0.71101416, -0.0362218 ,  0.26852314,  1.13922296,\n",
       "        0.10526692, -0.34096674, -0.0579893 , -0.55864169, -0.17771052,\n",
       "        0.18145315, -0.09064054,  0.02908069,  0.09438317,  0.17056941,\n",
       "       -0.12329178, -0.27566425, -0.18859427, -0.14505928, -0.24301301,\n",
       "        0.59503557,  0.14880191,  0.24675564,  0.03996443,  0.14880191,\n",
       "        0.4426631 , -0.00357056, -0.0362218 ,  0.11615067,  0.6712218 ,\n",
       "        0.00731319, -0.0579893 ,  0.03996443,  0.26852314, -0.21036176,\n",
       "        0.63857056, -0.12329178,  1.75959658,  2.31466771,  1.16099045,\n",
       "        0.54061683,  0.43177935, -0.42803672, -0.35185049, -0.2647805 ,\n",
       "       -0.33008299, -0.33008299, -0.23212926, -0.29743175, -0.34096674,\n",
       "       -0.09064054,  0.02908069, -0.40626922, -0.41715297, -0.43892047,\n",
       "       -0.46068796, -0.14505928, -0.36273423, -0.23212926, -0.35185049,\n",
       "       -0.0579893 , -0.24301301, -0.22124551, -0.56952544, -0.40626922,\n",
       "       -0.12329178, -0.7436654 , -0.68924667, -0.49333921, -0.89603787,\n",
       "       -0.36273423, -0.31919924,  0.05084818, -0.44980422, -0.75454915,\n",
       "       -0.48245546, -0.55864169, -0.59129294, -1.00487535, -0.5151067 ,\n",
       "       -0.92868912, -0.88515413, -0.9939916 , -0.75454915, -1.16813157,\n",
       "       -0.95045661, -0.75454915, -0.86338663, -0.5151067 , -0.77631665,\n",
       "       -0.11240804, -0.31919924, -0.7872004 , -0.34096674, -0.60217668,\n",
       "       -0.75454915, -1.02664285,  2.04257402,  0.1923369 ,  0.08349942,\n",
       "        0.48619809,  2.98946007,  2.98946007,  2.98946007,  0.01819694,\n",
       "        0.26852314,  2.98946007,  0.13791816,  0.13791816, -0.02533805,\n",
       "       -0.55864169, -0.37361798,  0.06173193,  0.11615067,  0.00731319,\n",
       "        0.74740804,  0.07261568,  0.22498815,  0.80182678,  1.59634036,\n",
       "        1.8793178 ,  1.48750288,  1.6725266 ,  1.08480422,  0.4208956 ,\n",
       "        0.76917553,  2.98946007,  1.03038548,  0.79094303,  1.34601416,\n",
       "        1.57457287,  0.86712926,  1.50927038,  0.93243175,  0.71475679,\n",
       "        2.98946007,  1.1718742 ,  0.84536177,  1.31336292,  1.34601416,\n",
       "        1.12833921,  0.17056941,  2.1514115 ,  2.82620386,  2.98946007,\n",
       "        0.00731319,  0.20322065, -0.00357056,  0.20322065, -0.27566425,\n",
       "       -0.09064054, -0.35185049, -0.01445431,  0.60591932,  0.12703442,\n",
       "        0.26852314,  0.08349942,  0.6712218 , -0.11240804,  0.05084818,\n",
       "        0.45354685, -0.09064054,  0.54061683,  0.82359427,  2.42350519,\n",
       "        2.98946007,  1.63987535,  0.98685049,  2.6302964 ,  0.97596674,\n",
       "        0.1923369 ,  0.99773424,  2.08610901,  2.80443636,  0.70387305,\n",
       "        0.15968566,  0.27940688,  0.97596674,  0.12703442,  0.08349942,\n",
       "       -0.0579893 , -0.2647805 , -0.0362218 ,  0.12703442, -0.5368742 ,\n",
       "       -0.43892047,  0.1923369 , -0.22124551,  0.2141044 ,  0.39912811,\n",
       "        0.20322065,  0.24675564,  0.76917553,  2.20583024, -0.06887304,\n",
       "       -0.17771052,  2.33643521,  2.98946007,  1.46573539,  0.82359427,\n",
       "        1.22629294,  2.23848148,  2.8588551 ,  0.921548  ,  1.52015413,\n",
       "        0.02908069,  0.88889676,  2.98946007,  2.28201647, -0.19947802,\n",
       "       -0.15594303,  0.29029063,  0.20322065,  1.37866541,  1.07392047,\n",
       "        1.03038548,  1.16099045,  1.1501067 ,  0.71475679,  1.36778166,\n",
       "        2.48880768,  1.4004329 ,  2.55411016,  2.98946007,  1.05215297,\n",
       "       -0.0579893 , -0.2647805 ,  0.07261568, -0.02533805,  0.24675564,\n",
       "        0.64945431,  1.60722411,  0.58415182,  0.14880191, -0.09064054,\n",
       "        0.66033806,  0.49708184, -0.24301301, -0.00357056,  0.70387305,\n",
       "        0.24675564, -0.0579893 ,  0.4208956 ,  1.1501067 ,  1.47661914,\n",
       "        0.63857056,  1.18275795,  0.61680306,  0.02908069, -0.24301301,\n",
       "       -0.70013041, -0.04710555, -0.34096674, -0.10152429,  0.13791816,\n",
       "       -0.68924667, -0.5151067 , -0.29743175,  0.06173193, -0.16682677,\n",
       "        0.13791816,  0.06173193, -0.23212926, -0.43892047,  0.26852314,\n",
       "        0.22498815,  0.05084818, -0.0362218 , -0.35185049,  0.00731319,\n",
       "       -0.29743175, -0.59129294, -0.34096674, -0.0362218 , -0.19947802,\n",
       "       -0.15594303, -0.33008299, -0.43892047, -0.21036176, -0.38450173,\n",
       "       -0.41715297,  1.10657171, -0.65659542,  0.14880191,  0.9433155 ,\n",
       "       -0.54775795, -0.58040919,  0.06173193,  0.2141044 ,  0.4426631 ,\n",
       "        0.03996443,  0.17056941, -0.42803672,  0.82359427, -0.47157171,\n",
       "       -0.21036176, -0.5151067 , -0.09064054,  0.01819694,  0.00731319,\n",
       "        0.26852314, -0.286548  , -0.18859427, -0.62394418, -0.06887304,\n",
       "        0.54061683, -0.06887304,  0.06173193,  2.98946007,  2.98946007,\n",
       "        2.98946007,  2.98946007,  2.98946007, -0.95045661, -0.95045661,\n",
       "       -0.81985164, -0.93957286, -1.00487535, -1.02664285, -1.34227153,\n",
       "       -1.32050404, -1.2660853 , -1.22255031, -1.11371283, -1.494644  ,\n",
       "       -1.66878396, -1.30962029, -1.64701647, -1.34227153, -1.20078281,\n",
       "       -0.80896789,  0.07261568, -1.39669027, -0.95045661, -1.07017784,\n",
       "       -1.02664285, -1.09194533, -1.52729524, -1.90822641, -1.76673769,\n",
       "       -1.84292393, -1.66878396, -1.13548032, -1.54906274, -1.52729524,\n",
       "       -1.90822641, -1.15724782,  0.58415182, -0.58040919,  0.54061683,\n",
       "       -0.81985164, -0.58040919, -0.50422295, -0.67836292, -1.69055146,\n",
       "       -1.66878396, -1.63613272, -1.32050404, -1.494644  , -1.53817899,\n",
       "       -0.63482793, -0.90692162, -0.18859427, -0.9939916 , -1.17901531,\n",
       "       -1.54906274, -1.34227153, -1.2660853 , -1.25520155, -1.41845777,\n",
       "       -0.87427038, -0.91780537, -0.70013041, -0.89603787, -1.17901531,\n",
       "       -0.9939916 , -1.40757402, -1.50552775, -1.53817899, -1.05929409,\n",
       "       -1.30962029, -0.59129294, -0.44980422, -0.77631665, -1.27696904,\n",
       "       -1.16813157, -0.83073539, -1.08106158, -0.91780537, -1.03752659,\n",
       "       -0.9939916 , -0.79808414, -0.70013041, -0.5151067 , -0.83073539,\n",
       "       -0.91780537, -1.07017784, -0.98310786, -0.83073539, -0.27566425,\n",
       "       -0.66747917, -0.52599045, -0.33008299, -0.25389676, -0.12329178,\n",
       "       -0.286548  , -0.38450173, -0.37361798, -0.37361798, -0.2647805 ,\n",
       "       -0.286548  , -0.31919924,  0.07261568,  0.79094303, -0.95045661,\n",
       "       -1.00487535, -0.63482793, -1.14636407, -0.86338663, -0.12329178,\n",
       "        0.05084818,  0.12703442,  0.26852314, -0.07975679, -0.21036176,\n",
       "       -0.14505928, -0.37361798, -0.21036176, -0.79808414, -1.69055146,\n",
       "       -1.57083023, -0.97222411, -0.2647805 , -0.07975679,  0.2141044 ,\n",
       "        0.06173193, -0.30831549, -0.46068796, -0.14505928, -0.54775795,\n",
       "       -0.62394418, -0.01445431, -0.21036176,  0.14880191, -0.0579893 ,\n",
       "       -1.15724782])"
      ]
     },
     "execution_count": 11,
     "metadata": {},
     "output_type": "execute_result"
    }
   ],
   "source": [
    "mean=np.mean(Y)\n",
    "std=np.std(Y)\n",
    "Y_mean=Y-mean\n",
    "Y_std=Y_mean/std\n",
    "Y_std"
   ]
  },
  {
   "cell_type": "code",
   "execution_count": 12,
   "metadata": {},
   "outputs": [
    {
     "name": "stdout",
     "output_type": "stream",
     "text": [
      "Standardized: -0.64 (0.57) MSE\n"
     ]
    }
   ],
   "source": [
    "def baseline_model_2():\n",
    "    model=models.Sequential()\n",
    "    model.add(Dense(13, activation='relu',input_shape=(13,)))\n",
    "    model.add(Dense(1,activation='sigmoid'))\n",
    "    model.compile(optimizer='adam', loss='mse', metrics=['mae'])\n",
    "    return model\n",
    "np.random.seed(seed)\n",
    "estimators = []\n",
    "estimators.append(('standardize', StandardScaler()))\n",
    "estimators.append(('mlp', KerasRegressor(build_fn=baseline_model_2, epochs=50, batch_size=5, verbose=0)))\n",
    "#estimator=KerasRegressor(build_fn=baseline_model_2, epochs=50, batch_size=5, verbose=0)\n",
    "pipeline = Pipeline(estimators)\n",
    "kfold = KFold(n_splits=10, random_state=seed)\n",
    "results = cross_val_score(pipeline, X, Y_std, cv=kfold)\n",
    "print(\"Standardized: %.2f (%.2f) MSE\" % (results.mean(), results.std()))"
   ]
  },
  {
   "cell_type": "code",
   "execution_count": 13,
   "metadata": {},
   "outputs": [
    {
     "data": {
      "text/plain": [
       "array([-0.32356018, -0.12412748, -0.31881628, -0.80781643, -0.43224304,\n",
       "       -0.5589637 , -0.13075813, -2.07316681, -1.23549076, -0.3876159 ])"
      ]
     },
     "execution_count": 13,
     "metadata": {},
     "output_type": "execute_result"
    }
   ],
   "source": [
    "results"
   ]
  },
  {
   "cell_type": "markdown",
   "metadata": {},
   "source": [
    "## Step 4. Tuning The Neural Network Topology"
   ]
  },
  {
   "cell_type": "markdown",
   "metadata": {},
   "source": [
    "### Step 4.1. Evaluate a Deeper Network Topology"
   ]
  },
  {
   "cell_type": "code",
   "execution_count": 14,
   "metadata": {},
   "outputs": [
    {
     "name": "stdout",
     "output_type": "stream",
     "text": [
      "Larger: -30.08 (24.95) MSE\n"
     ]
    }
   ],
   "source": [
    "def larger_model():\n",
    "    model=models.Sequential()\n",
    "    model.add(Dense(6, activation='relu',input_shape=(13,)))\n",
    "    model.add(Dense(1))\n",
    "    model.compile(optimizer='adam', loss='mse', metrics=['mae'])\n",
    "    return model\n",
    "    \n",
    "np.random.seed(seed)\n",
    "estimators = []\n",
    "estimators.append(('standardize', StandardScaler()))\n",
    "estimators.append(('mlp', KerasRegressor(build_fn=larger_model, epochs=50, batch_size=5, verbose=0)))\n",
    "pipeline = Pipeline(estimators)\n",
    "kfold = KFold(n_splits=10, random_state=seed)\n",
    "results = cross_val_score(pipeline, X, Y, cv=kfold)\n",
    "print(\"Larger: %.2f (%.2f) MSE\" % (results.mean(), results.std()))\n"
   ]
  },
  {
   "cell_type": "markdown",
   "metadata": {},
   "source": [
    "### Step 4.2. Evaluate a Wider Network Topology"
   ]
  },
  {
   "cell_type": "code",
   "execution_count": 15,
   "metadata": {},
   "outputs": [
    {
     "name": "stdout",
     "output_type": "stream",
     "text": [
      "Wider: -21.28 (21.84) MSE\n"
     ]
    }
   ],
   "source": [
    "def wider_model():\n",
    "    model=models.Sequential()\n",
    "    model.add(Dense(20, activation='relu',input_shape=(13,)))\n",
    "    model.add(Dense(1))\n",
    "    model.compile(optimizer='adam', loss='mse', metrics=['mae'])\n",
    "    return model\n",
    "np.random.seed(seed)\n",
    "estimators = []\n",
    "estimators.append(('standardize', StandardScaler()))\n",
    "estimators.append(('mlp', KerasRegressor(build_fn=wider_model, epochs=100, batch_size=5, verbose=0)))\n",
    "pipeline = Pipeline(estimators)\n",
    "kfold = KFold(n_splits=10, random_state=seed)\n",
    "results = cross_val_score(pipeline, X, Y, cv=kfold)\n",
    "print(\"Wider: %.2f (%.2f) MSE\" % (results.mean(), results.std()))"
   ]
  },
  {
   "cell_type": "markdown",
   "metadata": {},
   "source": [
    "## Step 5. Really Scaling up: developing a model that overfits"
   ]
  },
  {
   "cell_type": "markdown",
   "metadata": {},
   "source": [
    "### training for 100 epochs"
   ]
  },
  {
   "cell_type": "code",
   "execution_count": 58,
   "metadata": {},
   "outputs": [
    {
     "name": "stdout",
     "output_type": "stream",
     "text": [
      "processing fold # 0\n",
      "processing fold # 1\n",
      "processing fold # 2\n",
      "processing fold # 3\n",
      "processing fold # 4\n",
      "processing fold # 5\n",
      "processing fold # 6\n",
      "processing fold # 7\n",
      "processing fold # 8\n",
      "processing fold # 9\n"
     ]
    }
   ],
   "source": [
    "k=10\n",
    "num_val_samples = len(X) // k\n",
    "num_epochs = 100\n",
    "val_mean_absolute_error=[]\n",
    "val_loss=[]\n",
    "np.random.seed(seed)\n",
    "for i in range(k):\n",
    "    print('processing fold #', i)\n",
    "    val_data = X[i * num_val_samples: (i + 1) * num_val_samples]\n",
    "    val_targets = Y[i * num_val_samples: (i + 1) * num_val_samples]\n",
    "    \n",
    "    partial_train_data = np.concatenate([X[:i * num_val_samples],\n",
    "                                         X[(i + 1) * num_val_samples:]],axis=0)\n",
    "    partial_train_targets = np.concatenate([Y[:i * num_val_samples],\n",
    "                                            Y[(i + 1) * num_val_samples:]],axis=0)\n",
    "    \n",
    "    model=baseline_model()\n",
    "    history=model.fit(partial_train_data,partial_train_targets,shuffle=True,epochs=num_epochs,validation_data=(val_data,val_targets)\n",
    "                      ,batch_size=5,verbose=0)\n",
    "    \n",
    "    val_loss.append(history.history['val_loss'])\n",
    "    val_mean_absolute_error.append(history.history['val_mean_absolute_error'])"
   ]
  },
  {
   "cell_type": "code",
   "execution_count": 59,
   "metadata": {},
   "outputs": [
    {
     "data": {
      "text/plain": [
       "dict_keys(['val_loss', 'val_mean_absolute_error', 'loss', 'mean_absolute_error'])"
      ]
     },
     "execution_count": 59,
     "metadata": {},
     "output_type": "execute_result"
    }
   ],
   "source": [
    "history.history.keys()"
   ]
  },
  {
   "cell_type": "code",
   "execution_count": 60,
   "metadata": {},
   "outputs": [],
   "source": [
    "val_mean_absolute_error=np.mean(val_mean_absolute_error,axis=0)"
   ]
  },
  {
   "cell_type": "code",
   "execution_count": 61,
   "metadata": {},
   "outputs": [],
   "source": [
    "val_loss=np.mean(val_loss,axis=0)"
   ]
  },
  {
   "cell_type": "code",
   "execution_count": 62,
   "metadata": {},
   "outputs": [
    {
     "data": {
      "image/png": "[encoded data removed]",
      "text/plain": [
       "<Figure size 432x288 with 1 Axes>"
      ]
     },
     "metadata": {},
     "output_type": "display_data"
    }
   ],
   "source": [
    "from matplotlib import pyplot as plt\n",
    "\n",
    "plt.plot(np.arange(1,num_epochs+1),val_mean_absolute_error,'b')\n",
    "plt.xlabel(\"epochs\")\n",
    "plt.ylabel(\"val mean absolute error\")\n",
    "plt.show()"
   ]
  },
  {
   "cell_type": "code",
   "execution_count": 63,
   "metadata": {},
   "outputs": [
    {
     "data": {
      "image/png": "[encoded data removed]",
      "text/plain": [
       "<Figure size 432x288 with 1 Axes>"
      ]
     },
     "metadata": {},
     "output_type": "display_data"
    }
   ],
   "source": [
    "from matplotlib import pyplot as plt\n",
    "\n",
    "plt.plot(np.arange(1,num_epochs+1),val_loss,'b')\n",
    "plt.xlabel(\"epochs\")\n",
    "plt.ylabel(\"val loss\")\n",
    "plt.show()"
   ]
  },
  {
   "cell_type": "markdown",
   "metadata": {},
   "source": [
    "## Step 6. Tuning the Model"
   ]
  },
  {
   "cell_type": "markdown",
   "metadata": {},
   "source": [
    "### training for 100 epochs making model overfit , setting epochs=35"
   ]
  },
  {
   "cell_type": "code",
   "execution_count": 66,
   "metadata": {},
   "outputs": [
    {
     "data": {
      "text/plain": [
       "201.79951599828007"
      ]
     },
     "execution_count": 66,
     "metadata": {},
     "output_type": "execute_result"
    }
   ],
   "source": [
    "np.mean(val_mean_absolute_error)"
   ]
  },
  {
   "cell_type": "code",
   "execution_count": 92,
   "metadata": {},
   "outputs": [
    {
     "name": "stdout",
     "output_type": "stream",
     "text": [
      "processing fold # 0\n",
      "processing fold # 1\n",
      "processing fold # 2\n",
      "processing fold # 3\n",
      "processing fold # 4\n",
      "processing fold # 5\n",
      "processing fold # 6\n",
      "processing fold # 7\n",
      "processing fold # 8\n",
      "processing fold # 9\n"
     ]
    }
   ],
   "source": [
    "k=10\n",
    "num_val_samples = len(X) // k\n",
    "num_epochs = 35\n",
    "val_mean_absolute_error=[]\n",
    "val_loss=[]\n",
    "np.random.seed(seed)\n",
    "for i in range(k):\n",
    "    print('processing fold #', i)\n",
    "    val_data = X[i * num_val_samples: (i + 1) * num_val_samples]\n",
    "    val_targets = Y[i * num_val_samples: (i + 1) * num_val_samples]\n",
    "    \n",
    "    partial_train_data = np.concatenate([X[:i * num_val_samples],\n",
    "                                         X[(i + 1) * num_val_samples:]],axis=0)\n",
    "    partial_train_targets = np.concatenate([Y[:i * num_val_samples],\n",
    "                                            Y[(i + 1) * num_val_samples:]],axis=0)\n",
    "    \n",
    "    model=baseline_model()\n",
    "    history=model.fit(partial_train_data,partial_train_targets,shuffle=True,epochs=num_epochs,validation_data=(val_data,val_targets)\n",
    "                      ,batch_size=5,verbose=0)\n",
    "    \n",
    "    val_loss.append(history.history['val_loss'])\n",
    "    val_mean_absolute_error.append(history.history['val_mean_absolute_error'])"
   ]
  },
  {
   "cell_type": "code",
   "execution_count": 93,
   "metadata": {},
   "outputs": [],
   "source": [
    "val_mean_absolute_error=np.mean(val_mean_absolute_error,axis=0)\n",
    "val_loss=np.mean(val_loss,axis=0)"
   ]
  },
  {
   "cell_type": "code",
   "execution_count": 94,
   "metadata": {},
   "outputs": [
    {
     "data": {
      "image/png": "[encoded data removed]",
      "text/plain": [
       "<Figure size 432x288 with 1 Axes>"
      ]
     },
     "metadata": {},
     "output_type": "display_data"
    }
   ],
   "source": [
    "from matplotlib import pyplot as plt\n",
    "\n",
    "plt.plot(np.arange(1,num_epochs+1),val_mean_absolute_error,'b')\n",
    "plt.xlabel(\"epochs\")\n",
    "plt.ylabel(\"val mean absolute error\")\n",
    "plt.show()"
   ]
  },
  {
   "cell_type": "code",
   "execution_count": 95,
   "metadata": {},
   "outputs": [
    {
     "data": {
      "image/png": "[encoded data removed]",
      "text/plain": [
       "<Figure size 432x288 with 1 Axes>"
      ]
     },
     "metadata": {},
     "output_type": "display_data"
    }
   ],
   "source": [
    "from matplotlib import pyplot as plt\n",
    "\n",
    "plt.plot(np.arange(1,num_epochs+1),val_loss,'b')\n",
    "plt.xlabel(\"epochs\")\n",
    "plt.ylabel(\"val loss\")\n",
    "plt.show()"
   ]
  },
  {
   "cell_type": "markdown",
   "metadata": {},
   "source": [
    "## Step 7. Rewriting the code using the Keras Functional API"
   ]
  },
  {
   "cell_type": "code",
   "execution_count": 7,
   "metadata": {},
   "outputs": [
    {
     "name": "stdout",
     "output_type": "stream",
     "text": [
      "Wider: -25.56 (34.86) MSE\n"
     ]
    }
   ],
   "source": [
    "def create_baseline_3():\n",
    "    inputs=keras.layers.Input(shape=(13,))\n",
    "    x=layers.Dense(13,activation='relu')(inputs)\n",
    "    outputs=layers.Dense(1)(x)\n",
    "\n",
    "    model=keras.Model(inputs,outputs)\n",
    "    model.compile(optimizer='adam',loss='mse',metrics=['mae'])\n",
    "    return model\n",
    "\n",
    "np.random.seed(seed)\n",
    "\n",
    "estimators = []\n",
    "estimators.append(('standardize', StandardScaler()))\n",
    "estimators.append(('mlp', KerasRegressor(build_fn=create_baseline_3, epochs=100, batch_size=5, verbose=0)))\n",
    "pipeline = Pipeline(estimators)\n",
    "kfold = KFold(n_splits=10, random_state=seed)\n",
    "results = cross_val_score(pipeline, X, Y, cv=kfold)\n",
    "print(\"Wider: %.2f (%.2f) MSE\" % (results.mean(), results.std()))\n"
   ]
  },
  {
   "cell_type": "markdown",
   "metadata": {},
   "source": [
    "## Step 8. Rewriting the code by doing Model Subclassing"
   ]
  },
  {
   "cell_type": "code",
   "execution_count": 15,
   "metadata": {},
   "outputs": [
    {
     "name": "stdout",
     "output_type": "stream",
     "text": [
      "Wider: -579.65 (69.92) MSE\n"
     ]
    }
   ],
   "source": [
    "def create_baseline_4():\n",
    "    class MyModel(tf.keras.Model):\n",
    "        def __init__(self):\n",
    "            super(MyModel,self).__init__()\n",
    "            self.dense1 = Dense(13, activation=\"relu\")\n",
    "            self.dense2 = Dense(13, activation='relu')\n",
    "            self.dense3 = Dense(1)\n",
    "\n",
    "\n",
    "        def call(self,inputs):\n",
    "            x = self.dense1(inputs)\n",
    "            x = self.dense2(x)\n",
    "            return self.dense3(x)\n",
    "\n",
    "    model=MyModel()\n",
    "    model.compile(loss='mse',optimizer='adam',metrics=['mae'])\n",
    "    return model\n",
    "\n",
    "np.random.seed(seed)\n",
    "\n",
    "np.random.seed(seed)\n",
    "\n",
    "estimators = []\n",
    "estimators.append(('standardize', StandardScaler()))\n",
    "estimators.append(('mlp', KerasRegressor(build_fn=create_baseline_4, epochs=100, batch_size=5, verbose=0)))\n",
    "pipeline = Pipeline(estimators)\n",
    "kfold = KFold(n_splits=10, random_state=seed,shuffle=True)\n",
    "results = cross_val_score(pipeline, X, Y, cv=kfold)\n",
    "print(\"Wider: %.2f (%.2f) MSE\" % (results.mean(), results.std()))"
   ]
  },
  {
   "cell_type": "markdown",
   "metadata": {},
   "source": [
    "## Step 9: Without Skit-learn Library"
   ]
  },
  {
   "cell_type": "code",
   "execution_count": 27,
   "metadata": {},
   "outputs": [
    {
     "name": "stdout",
     "output_type": "stream",
     "text": [
      "processing fold # 0\n",
      "processing fold # 1\n",
      "processing fold # 2\n",
      "processing fold # 3\n",
      "processing fold # 4\n",
      "processing fold # 5\n",
      "processing fold # 6\n",
      "processing fold # 7\n",
      "processing fold # 8\n",
      "processing fold # 9\n"
     ]
    }
   ],
   "source": [
    "k=10\n",
    "num_val_samples = len(X) // k\n",
    "num_epochs = 35\n",
    "val_loss=[]\n",
    "val_mean_absolute_error=[]\n",
    "np.random.seed(seed)\n",
    "for i in range(k):\n",
    "    print('processing fold #', i)\n",
    "    val_data = X[i * num_val_samples: (i + 1) * num_val_samples]\n",
    "    val_targets = Y[i * num_val_samples: (i + 1) * num_val_samples]\n",
    "    \n",
    "    partial_train_data = np.concatenate([X[:i * num_val_samples],\n",
    "                                         X[(i + 1) * num_val_samples:]],axis=0)\n",
    "    partial_train_targets = np.concatenate([Y[:i * num_val_samples],\n",
    "                                            Y[(i + 1) * num_val_samples:]],axis=0)\n",
    "    \n",
    "    model=baseline_model()\n",
    "    history=model.fit(partial_train_data,partial_train_targets,shuffle=True,epochs=num_epochs,validation_data=(val_data,val_targets)\n",
    "                      ,batch_size=5,verbose=0)\n",
    "    \n",
    "    val_loss.append(history.history['val_loss'])\n",
    "    val_mean_absolute_error.append(history.history['val_mean_absolute_error'])"
   ]
  },
  {
   "cell_type": "markdown",
   "metadata": {},
   "source": [
    "### Validation accuracy is found to be:"
   ]
  },
  {
   "cell_type": "code",
   "execution_count": 28,
   "metadata": {},
   "outputs": [
    {
     "data": {
      "text/plain": [
       "7.367215489251272"
      ]
     },
     "execution_count": 28,
     "metadata": {},
     "output_type": "execute_result"
    }
   ],
   "source": [
    "np.mean(np.mean(val_mean_absolute_error,axis=0))"
   ]
  },
  {
   "cell_type": "markdown",
   "metadata": {},
   "source": [
    "### Validation loss is found to be:"
   ]
  },
  {
   "cell_type": "code",
   "execution_count": 29,
   "metadata": {},
   "outputs": [
    {
     "data": {
      "text/plain": [
       "155.8701762980904"
      ]
     },
     "execution_count": 29,
     "metadata": {},
     "output_type": "execute_result"
    }
   ],
   "source": [
    "np.mean(np.mean(val_loss,axis=0))"
   ]
  },
  {
   "cell_type": "code",
   "execution_count": 30,
   "metadata": {},
   "outputs": [],
   "source": [
    "val_mean_absolute_error=np.mean(val_mean_absolute_error,axis=0)"
   ]
  },
  {
   "cell_type": "code",
   "execution_count": 33,
   "metadata": {},
   "outputs": [
    {
     "data": {
      "text/plain": [
       "array([33.18750126, 11.78579473,  8.77091706,  8.15424571,  7.86099117,\n",
       "        7.31738108,  7.36372257,  7.42131756,  7.299139  ,  7.31500458,\n",
       "        7.0378028 ,  6.80597574,  6.91251992,  6.68637396,  6.46923113,\n",
       "        7.16157026,  6.54920821,  6.20232382,  6.18313129,  6.47526052,\n",
       "        5.84747143,  6.13148439,  5.82216264,  5.78730151,  6.12170502,\n",
       "        5.65957298,  5.54072261,  5.67627484,  6.12744138,  5.45819272,\n",
       "        5.38714198,  5.49195876,  5.1363013 ,  5.72493791,  4.98046029])"
      ]
     },
     "execution_count": 33,
     "metadata": {},
     "output_type": "execute_result"
    }
   ],
   "source": [
    "val_mean_absolute_error"
   ]
  },
  {
   "cell_type": "code",
   "execution_count": null,
   "metadata": {},
   "outputs": [],
   "source": []
  }
 ],
 "metadata": {
  "kernelspec": {
   "display_name": "Python 3",
   "language": "python",
   "name": "python3"
  },
  "language_info": {
   "codemirror_mode": {
    "name": "ipython",
    "version": 3
   },
   "file_extension": ".py",
   "mimetype": "text/x-python",
   "name": "python",
   "nbconvert_exporter": "python",
   "pygments_lexer": "ipython3",
   "version": "3.6.3"
  }
 },
 "nbformat": 4,
 "nbformat_minor": 2
}
